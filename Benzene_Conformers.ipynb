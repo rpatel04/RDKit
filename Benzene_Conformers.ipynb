{
 "cells": [
  {
   "cell_type": "code",
   "execution_count": 32,
   "id": "ee0003ec-aa67-401d-afc3-dd90cf006e69",
   "metadata": {},
   "outputs": [],
   "source": [
    "# import\n",
    "from rdkit import Chem\n",
    "from rdkit.Chem import Draw\n",
    "from rdkit.Chem import AllChem"
   ]
  },
  {
   "cell_type": "code",
   "execution_count": 33,
   "id": "2e7576df-3aa0-48b6-bdc3-ae3b0f2401cd",
   "metadata": {},
   "outputs": [],
   "source": [
    "# set SMILES for first_mol (benzene)\n",
    "first_smiles = \"c1ccccc1\"\n",
    "\n",
    "# Convert to RDKit molecule\n",
    "first_mol = Chem.MolFromSmiles(first_smiles)\n",
    "\n",
    "# Add hydrogens\n",
    "first_mol = Chem.AddHs(first_mol)\n",
    "\n",
    "# 3D by generating a random conformer\n",
    "Chem.AllChem.EmbedMolecule(first_mol)\n",
    "\n",
    "# Optimize molecule\n",
    "AllChem.MMFFOptimizeMolecule(first_mol)\n",
    "\n",
    "# Orient the molecule\n",
    "Chem.rdMolTransforms.CanonicalizeConformer(first_mol.GetConformer())"
   ]
  },
  {
   "cell_type": "code",
   "execution_count": 34,
   "id": "8f19b338-c32d-4c21-9c9c-9a43e343ad3a",
   "metadata": {},
   "outputs": [],
   "source": [
    "# set SMILES for second_mol (benzene)\n",
    "second_smiles = \"c1ccccc1\"\n",
    "\n",
    "# Convert to RDKit molecule\n",
    "second_mol = Chem.MolFromSmiles(second_smiles)\n",
    "\n",
    "# Add hydrogens\n",
    "second_mol = Chem.AddHs(second_mol)\n",
    "\n",
    "# 3D by generating a random conformer\n",
    "Chem.AllChem.EmbedMolecule(second_mol)\n",
    "\n",
    "# Optimize molecule\n",
    "AllChem.MMFFOptimizeMolecule(second_mol)\n",
    "\n",
    "# Get centeroid of first oriented molecule\n",
    "center = Chem.rdMolTransforms.ComputeCentroid(first_mol.GetConformer())\n",
    "\n",
    "# Orient the molecule\n",
    "Chem.rdMolTransforms.CanonicalizeConformer(second_mol.GetConformer(), center=center)"
   ]
  },
  {
   "cell_type": "code",
   "execution_count": 35,
   "id": "dfc13ea4-d8aa-4994-a27a-ac5e7c920ac0",
   "metadata": {},
   "outputs": [],
   "source": [
    "import numpy as np\n",
    "from rdkit.Chem import rdMolTransforms\n",
    "\n",
    "\n",
    "def translate(x,y,z):\n",
    "    return  np.array([[1, 0, 0, x],\n",
    "                      [0, 1, 0, y],\n",
    "                      [0, 0, 1, z],\n",
    "                     [0, 0, 0, 1]], dtype=np.double)\n",
    "\n",
    "\n",
    "def rotation_x(angle_degree):\n",
    "    angle_radian = angle_degree * np.pi / 180\n",
    "    return  np.array([[1, 0, 0, 0],\n",
    "                      [0, np.cos(angle_radian), -np.sin(angle_radian), 0],\n",
    "                      [0, np.sin(angle_radian), np.cos(angle_radian), 0],\n",
    "                     [0, 0, 0, 1]], dtype=np.double)\n",
    "\n",
    "def rotation_y(angle_degree):\n",
    "    angle_radian = angle_degree * np.pi / 180\n",
    "    return  np.array([[np.cos(angle_radian), 0, np.sin(angle_radian), 0],\n",
    "                      [0, 1, 0, 0],\n",
    "                      [-np.sin(angle_radian), 0, np.cos(angle_radian), 0],\n",
    "                     [0, 0, 0, 1]], dtype=np.double)\n",
    "\n",
    "def rotation_z(angle_degree):\n",
    "    angle_radian = angle_degree * np.pi / 180\n",
    "    return  np.array([[np.cos(angle_radian), -np.sin(angle_radian), 0, 0],\n",
    "                      [np.sin(angle_radian), np.cos(angle_radian), 0, 0],\n",
    "                      [0, 0, 1, 0],\n",
    "                     [0, 0, 0, 1]], dtype=np.double)\n"
   ]
  },
  {
   "cell_type": "code",
   "execution_count": 38,
   "id": "24c98da3-4bc7-4a25-b66b-461c7ae8a909",
   "metadata": {},
   "outputs": [],
   "source": [
    "# apply transformation\n",
    "rdMolTransforms.TransformConformer(second_mol.GetConformer(0), rotation_x(90))\n",
    "rdMolTransforms.TransformConformer(second_mol.GetConformer(0), translate(8,0,0))"
   ]
  },
  {
   "cell_type": "code",
   "execution_count": 39,
   "id": "f8625762-1539-4cde-88df-62c2e1875447",
   "metadata": {},
   "outputs": [
    {
     "data": {
      "image/png": "[encoded data removed]",
      "text/plain": [
       "<rdkit.Chem.rdchem.Mol at 0x11ad2eff0>"
      ]
     },
     "execution_count": 39,
     "metadata": {},
     "output_type": "execute_result"
    }
   ],
   "source": [
    "# combine the two molecules\n",
    "dimer = Chem.CombineMols(first_mol,second_mol)\n",
    "dimer"
   ]
  },
  {
   "cell_type": "code",
   "execution_count": 13,
   "id": "67d26c36-3afd-42ff-ba81-fdfc2ed6d5b5",
   "metadata": {},
   "outputs": [],
   "source": [
    "# Save the molecule in XYZ format \n",
    "Chem.MolToXYZFile(dimer,\"dimer.xyz\")"
   ]
  },
  {
   "cell_type": "code",
   "execution_count": null,
   "id": "1923aed9-68f7-4395-a1bc-ad563a6ff54d",
   "metadata": {},
   "outputs": [],
   "source": []
  }
 ],
 "metadata": {
  "kernelspec": {
   "display_name": "Python 3 (ipykernel)",
   "language": "python",
   "name": "python3"
  },
  "language_info": {
   "codemirror_mode": {
    "name": "ipython",
    "version": 3
   },
   "file_extension": ".py",
   "mimetype": "text/x-python",
   "name": "python",
   "nbconvert_exporter": "python",
   "pygments_lexer": "ipython3",
   "version": "3.12.3"
  }
 },
 "nbformat": 4,
 "nbformat_minor": 5
}
